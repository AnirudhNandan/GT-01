{
 "cells": [
  {
   "cell_type": "code",
   "execution_count": 1,
   "metadata": {
    "collapsed": false
   },
   "outputs": [
    {
     "name": "stderr",
     "output_type": "stream",
     "text": [
      "[INFO] graphlab.cython.cy_server: GraphLab Create v2.1 started. Logging: /tmp/graphlab_server_1483824882.log\n",
      "INFO:graphlab.cython.cy_server:GraphLab Create v2.1 started. Logging: /tmp/graphlab_server_1483824882.log\n"
     ]
    },
    {
     "name": "stdout",
     "output_type": "stream",
     "text": [
      "This non-commercial license of GraphLab Create for academic use is assigned to joisimha@gmail.com and will expire on October 22, 2017.\n"
     ]
    }
   ],
   "source": [
    "import graphlab as gl\n",
    "import numpy as np\n",
    "import random as rnd\n",
    "import math\n",
    "from __future__ import division\n",
    "import matplotlib.pyplot as plt\n",
    "%matplotlib inline\n",
    "gl.canvas.set_target('ipynb')"
   ]
  },
  {
   "cell_type": "code",
   "execution_count": 231,
   "metadata": {
    "collapsed": false
   },
   "outputs": [
    {
     "data": {
      "text/html": [
       "<pre>Finished parsing file /home/ubuntu/Gran Turino/India_500_Cities.csv</pre>"
      ],
      "text/plain": [
       "Finished parsing file /home/ubuntu/Gran Turino/India_500_Cities.csv"
      ]
     },
     "metadata": {},
     "output_type": "display_data"
    },
    {
     "data": {
      "text/html": [
       "<pre>Parsing completed. Parsed 100 lines in 0.082014 secs.</pre>"
      ],
      "text/plain": [
       "Parsing completed. Parsed 100 lines in 0.082014 secs."
      ]
     },
     "metadata": {},
     "output_type": "display_data"
    },
    {
     "data": {
      "text/html": [
       "<pre>Read 493 lines. Lines per second: 26283.5</pre>"
      ],
      "text/plain": [
       "Read 493 lines. Lines per second: 26283.5"
      ]
     },
     "metadata": {},
     "output_type": "display_data"
    },
    {
     "data": {
      "text/html": [
       "<pre>Finished parsing file /home/ubuntu/Gran Turino/India_500_Cities.csv</pre>"
      ],
      "text/plain": [
       "Finished parsing file /home/ubuntu/Gran Turino/India_500_Cities.csv"
      ]
     },
     "metadata": {},
     "output_type": "display_data"
    },
    {
     "data": {
      "text/html": [
       "<pre>Parsing completed. Parsed 493 lines in 0.021326 secs.</pre>"
      ],
      "text/plain": [
       "Parsing completed. Parsed 493 lines in 0.021326 secs."
      ]
     },
     "metadata": {},
     "output_type": "display_data"
    },
    {
     "name": "stdout",
     "output_type": "stream",
     "text": [
      "------------------------------------------------------\n",
      "Inferred types from first 100 line(s) of file as \n",
      "column_type_hints=[str,int,str,int,int,int,int,int,int,int,int,int,int,int,int,float,float,float,str,int,int,int]\n",
      "If parsing fails due to incorrect types, you can correct\n",
      "the inferred type list above and pass it to read_csv in\n",
      "the column_type_hints argument\n",
      "------------------------------------------------------\n"
     ]
    }
   ],
   "source": [
    "cities = gl.SFrame('India_500_Cities.csv')\n",
    "simple_features = ['effective_literacy_rate_total', 'sex_ratio', 'total_graduates']\n",
    "label = 'name_of_city'"
   ]
  },
  {
   "cell_type": "code",
   "execution_count": 232,
   "metadata": {
    "collapsed": false
   },
   "outputs": [],
   "source": [
    "cities1 = gl.SFrame(cities['name_of_city', 'effective_literacy_rate_total', 'sex_ratio', 'total_graduates'])\n",
    "cities1['total_graduates'] = cities1['total_graduates']*1.\n",
    "cities1['sex_ratio'] = cities1['sex_ratio']*1."
   ]
  },
  {
   "cell_type": "code",
   "execution_count": 233,
   "metadata": {
    "collapsed": false
   },
   "outputs": [
    {
     "data": {
      "text/html": [
       "<div style=\"max-height:1000px;max-width:1500px;overflow:auto;\"><table frame=\"box\" rules=\"cols\">\n",
       "    <tr>\n",
       "        <th style=\"padding-left: 1em; padding-right: 1em; text-align: center\">name_of_city</th>\n",
       "        <th style=\"padding-left: 1em; padding-right: 1em; text-align: center\">effective_literacy_rate_t<br>otal ...</th>\n",
       "        <th style=\"padding-left: 1em; padding-right: 1em; text-align: center\">sex_ratio</th>\n",
       "        <th style=\"padding-left: 1em; padding-right: 1em; text-align: center\">total_graduates</th>\n",
       "    </tr>\n",
       "    <tr>\n",
       "        <td style=\"padding-left: 1em; padding-right: 1em; text-align: center; vertical-align: top\">Abohar</td>\n",
       "        <td style=\"padding-left: 1em; padding-right: 1em; text-align: center; vertical-align: top\">79.86</td>\n",
       "        <td style=\"padding-left: 1em; padding-right: 1em; text-align: center; vertical-align: top\">890.0</td>\n",
       "        <td style=\"padding-left: 1em; padding-right: 1em; text-align: center; vertical-align: top\">16287.0</td>\n",
       "    </tr>\n",
       "    <tr>\n",
       "        <td style=\"padding-left: 1em; padding-right: 1em; text-align: center; vertical-align: top\">Achalpur</td>\n",
       "        <td style=\"padding-left: 1em; padding-right: 1em; text-align: center; vertical-align: top\">91.99</td>\n",
       "        <td style=\"padding-left: 1em; padding-right: 1em; text-align: center; vertical-align: top\">928.0</td>\n",
       "        <td style=\"padding-left: 1em; padding-right: 1em; text-align: center; vertical-align: top\">8863.0</td>\n",
       "    </tr>\n",
       "    <tr>\n",
       "        <td style=\"padding-left: 1em; padding-right: 1em; text-align: center; vertical-align: top\">Adilabad</td>\n",
       "        <td style=\"padding-left: 1em; padding-right: 1em; text-align: center; vertical-align: top\">80.51</td>\n",
       "        <td style=\"padding-left: 1em; padding-right: 1em; text-align: center; vertical-align: top\">982.0</td>\n",
       "        <td style=\"padding-left: 1em; padding-right: 1em; text-align: center; vertical-align: top\">10565.0</td>\n",
       "    </tr>\n",
       "    <tr>\n",
       "        <td style=\"padding-left: 1em; padding-right: 1em; text-align: center; vertical-align: top\">Adityapur</td>\n",
       "        <td style=\"padding-left: 1em; padding-right: 1em; text-align: center; vertical-align: top\">83.46</td>\n",
       "        <td style=\"padding-left: 1em; padding-right: 1em; text-align: center; vertical-align: top\">902.0</td>\n",
       "        <td style=\"padding-left: 1em; padding-right: 1em; text-align: center; vertical-align: top\">19225.0</td>\n",
       "    </tr>\n",
       "    <tr>\n",
       "        <td style=\"padding-left: 1em; padding-right: 1em; text-align: center; vertical-align: top\">Adoni</td>\n",
       "        <td style=\"padding-left: 1em; padding-right: 1em; text-align: center; vertical-align: top\">68.38</td>\n",
       "        <td style=\"padding-left: 1em; padding-right: 1em; text-align: center; vertical-align: top\">1013.0</td>\n",
       "        <td style=\"padding-left: 1em; padding-right: 1em; text-align: center; vertical-align: top\">11902.0</td>\n",
       "    </tr>\n",
       "    <tr>\n",
       "        <td style=\"padding-left: 1em; padding-right: 1em; text-align: center; vertical-align: top\">Agartala</td>\n",
       "        <td style=\"padding-left: 1em; padding-right: 1em; text-align: center; vertical-align: top\">93.88</td>\n",
       "        <td style=\"padding-left: 1em; padding-right: 1em; text-align: center; vertical-align: top\">1002.0</td>\n",
       "        <td style=\"padding-left: 1em; padding-right: 1em; text-align: center; vertical-align: top\">52711.0</td>\n",
       "    </tr>\n",
       "    <tr>\n",
       "        <td style=\"padding-left: 1em; padding-right: 1em; text-align: center; vertical-align: top\">Agra</td>\n",
       "        <td style=\"padding-left: 1em; padding-right: 1em; text-align: center; vertical-align: top\">63.44</td>\n",
       "        <td style=\"padding-left: 1em; padding-right: 1em; text-align: center; vertical-align: top\">853.0</td>\n",
       "        <td style=\"padding-left: 1em; padding-right: 1em; text-align: center; vertical-align: top\">185813.0</td>\n",
       "    </tr>\n",
       "    <tr>\n",
       "        <td style=\"padding-left: 1em; padding-right: 1em; text-align: center; vertical-align: top\">Ahmadabad</td>\n",
       "        <td style=\"padding-left: 1em; padding-right: 1em; text-align: center; vertical-align: top\">89.62</td>\n",
       "        <td style=\"padding-left: 1em; padding-right: 1em; text-align: center; vertical-align: top\">897.0</td>\n",
       "        <td style=\"padding-left: 1em; padding-right: 1em; text-align: center; vertical-align: top\">769858.0</td>\n",
       "    </tr>\n",
       "    <tr>\n",
       "        <td style=\"padding-left: 1em; padding-right: 1em; text-align: center; vertical-align: top\">Ahmadnagar</td>\n",
       "        <td style=\"padding-left: 1em; padding-right: 1em; text-align: center; vertical-align: top\">91.49</td>\n",
       "        <td style=\"padding-left: 1em; padding-right: 1em; text-align: center; vertical-align: top\">952.0</td>\n",
       "        <td style=\"padding-left: 1em; padding-right: 1em; text-align: center; vertical-align: top\">51661.0</td>\n",
       "    </tr>\n",
       "    <tr>\n",
       "        <td style=\"padding-left: 1em; padding-right: 1em; text-align: center; vertical-align: top\">Aizawl</td>\n",
       "        <td style=\"padding-left: 1em; padding-right: 1em; text-align: center; vertical-align: top\">98.8</td>\n",
       "        <td style=\"padding-left: 1em; padding-right: 1em; text-align: center; vertical-align: top\">1029.0</td>\n",
       "        <td style=\"padding-left: 1em; padding-right: 1em; text-align: center; vertical-align: top\">26832.0</td>\n",
       "    </tr>\n",
       "</table>\n",
       "[493 rows x 4 columns]<br/>Note: Only the head of the SFrame is printed.<br/>You can use print_rows(num_rows=m, num_columns=n) to print more rows and columns.\n",
       "</div>"
      ],
      "text/plain": [
       "Columns:\n",
       "\tname_of_city\tstr\n",
       "\teffective_literacy_rate_total\tfloat\n",
       "\tsex_ratio\tfloat\n",
       "\ttotal_graduates\tfloat\n",
       "\n",
       "Rows: 493\n",
       "\n",
       "Data:\n",
       "+--------------+-------------------------------+-----------+-----------------+\n",
       "| name_of_city | effective_literacy_rate_total | sex_ratio | total_graduates |\n",
       "+--------------+-------------------------------+-----------+-----------------+\n",
       "|    Abohar    |             79.86             |   890.0   |     16287.0     |\n",
       "|   Achalpur   |             91.99             |   928.0   |      8863.0     |\n",
       "|   Adilabad   |             80.51             |   982.0   |     10565.0     |\n",
       "|  Adityapur   |             83.46             |   902.0   |     19225.0     |\n",
       "|    Adoni     |             68.38             |   1013.0  |     11902.0     |\n",
       "|   Agartala   |             93.88             |   1002.0  |     52711.0     |\n",
       "|     Agra     |             63.44             |   853.0   |     185813.0    |\n",
       "|  Ahmadabad   |             89.62             |   897.0   |     769858.0    |\n",
       "|  Ahmadnagar  |             91.49             |   952.0   |     51661.0     |\n",
       "|    Aizawl    |              98.8             |   1029.0  |     26832.0     |\n",
       "+--------------+-------------------------------+-----------+-----------------+\n",
       "[493 rows x 4 columns]\n",
       "Note: Only the head of the SFrame is printed.\n",
       "You can use print_rows(num_rows=m, num_columns=n) to print more rows and columns."
      ]
     },
     "execution_count": 233,
     "metadata": {},
     "output_type": "execute_result"
    }
   ],
   "source": [
    "cities1"
   ]
  },
  {
   "cell_type": "code",
   "execution_count": 204,
   "metadata": {
    "collapsed": false
   },
   "outputs": [],
   "source": []
  },
  {
   "cell_type": "markdown",
   "metadata": {},
   "source": [
    "# Simple model"
   ]
  },
  {
   "cell_type": "code",
   "execution_count": 276,
   "metadata": {
    "collapsed": false
   },
   "outputs": [],
   "source": [
    "simple_model = gl.nearest_neighbors.create(cities1, features = simple_features, label = 'name_of_city',verbose=False)\n",
    "simple_model_cosine = gl.nearest_neighbors.create(cities1, features = simple_features, label = 'name_of_city', distance = 'cosine',verbose=False)"
   ]
  },
  {
   "cell_type": "code",
   "execution_count": 227,
   "metadata": {
    "collapsed": false
   },
   "outputs": [],
   "source": [
    "chennai = cities1[cities1['name_of_city'] == 'Chennai']\n",
    "\n",
    "hyd = cities1[cities1['name_of_city'] == 'Greater Hyderabad']\n",
    "\n",
    "bang = cities1[cities1['name_of_city'] == 'Bengaluru']\n"
   ]
  },
  {
   "cell_type": "markdown",
   "metadata": {},
   "source": [
    "## Chennai query"
   ]
  },
  {
   "cell_type": "code",
   "execution_count": 206,
   "metadata": {
    "collapsed": false
   },
   "outputs": [
    {
     "name": "stdout",
     "output_type": "stream",
     "text": [
      "+-------------+-----------------+---------------+------+\n",
      "| query_label | reference_label |    distance   | rank |\n",
      "+-------------+-----------------+---------------+------+\n",
      "|      0      |     Chennai     |      0.0      |  1   |\n",
      "|      0      |     Kolkata     | 61219.0619021 |  2   |\n",
      "|      0      |    Ahmadabad    |  109837.03606 |  3   |\n",
      "|      0      |       Pune      |  223187.00377 |  4   |\n",
      "|      0      |     Lucknow     | 282705.008971 |  5   |\n",
      "+-------------+-----------------+---------------+------+\n",
      "[5 rows x 4 columns]\n",
      "\n",
      "+-------------+-------------------+-------------------+------+\n",
      "| query_label |  reference_label  |      distance     | rank |\n",
      "+-------------+-------------------+-------------------+------+\n",
      "|      0      |      Chennai      |        0.0        |  1   |\n",
      "|      0      |      Kolkata      | 2.59384069778e-10 |  2   |\n",
      "|      0      |     Ahmadabad     | 1.07577446951e-09 |  3   |\n",
      "|      0      | Greater Hyderabad | 4.82622495301e-08 |  4   |\n",
      "|      0      |        Pune       | 5.14292225473e-08 |  5   |\n",
      "+-------------+-------------------+-------------------+------+\n",
      "[5 rows x 4 columns]\n",
      "\n"
     ]
    }
   ],
   "source": [
    "print simple_model.query(chennai, verbose=False)\n",
    "print simple_model_cosine.query(chennai,verbose=False)"
   ]
  },
  {
   "cell_type": "markdown",
   "metadata": {},
   "source": [
    "## Bangalore query"
   ]
  },
  {
   "cell_type": "code",
   "execution_count": 207,
   "metadata": {
    "collapsed": false
   },
   "outputs": [
    {
     "name": "stdout",
     "output_type": "stream",
     "text": [
      "+-------------+-------------------+---------------+------+\n",
      "| query_label |  reference_label  |    distance   | rank |\n",
      "+-------------+-------------------+---------------+------+\n",
      "|      0      |     Bengaluru     |      0.0      |  1   |\n",
      "|      0      |   Greater Mumbai  | 211208.009101 |  2   |\n",
      "|      0      | Greater Hyderabad | 427014.001177 |  3   |\n",
      "|      0      |       Delhi       |  629974.00121 |  4   |\n",
      "|      0      |      Chennai      | 711468.003644 |  5   |\n",
      "+-------------+-------------------+---------------+------+\n",
      "[5 rows x 4 columns]\n",
      "\n",
      "+-------------+-------------------+-------------------+------+\n",
      "| query_label |  reference_label  |      distance     | rank |\n",
      "+-------------+-------------------+-------------------+------+\n",
      "|      0      |     Bengaluru     |        0.0        |  1   |\n",
      "|      0      |   Greater Mumbai  | 5.19197040916e-09 |  2   |\n",
      "|      0      |       Delhi       | 1.64287702331e-08 |  3   |\n",
      "|      0      | Greater Hyderabad | 2.82744007096e-08 |  4   |\n",
      "|      0      |      Kolkata      | 1.38525046212e-07 |  5   |\n",
      "+-------------+-------------------+-------------------+------+\n",
      "[5 rows x 4 columns]\n",
      "\n"
     ]
    }
   ],
   "source": [
    "print simple_model.query(bang, verbose=False)\n",
    "print simple_model_cosine.query(bang,verbose=False)"
   ]
  },
  {
   "cell_type": "markdown",
   "metadata": {},
   "source": [
    "## Hyderabad query"
   ]
  },
  {
   "cell_type": "code",
   "execution_count": 208,
   "metadata": {
    "collapsed": false
   },
   "outputs": [
    {
     "name": "stdout",
     "output_type": "stream",
     "text": [
      "+-------------+-------------------+---------------+------+\n",
      "| query_label |  reference_label  |    distance   | rank |\n",
      "+-------------+-------------------+---------------+------+\n",
      "|      0      | Greater Hyderabad |      0.0      |  1   |\n",
      "|      0      |      Chennai      |  284454.00305 |  2   |\n",
      "|      0      |      Kolkata      | 345673.003086 |  3   |\n",
      "|      0      |     Ahmadabad     | 394291.002978 |  4   |\n",
      "|      0      |     Bengaluru     | 427014.001177 |  5   |\n",
      "+-------------+-------------------+---------------+------+\n",
      "[5 rows x 4 columns]\n",
      "\n",
      "+-------------+-------------------+--------------------+------+\n",
      "| query_label |  reference_label  |      distance      | rank |\n",
      "+-------------+-------------------+--------------------+------+\n",
      "|      0      | Greater Hyderabad | -2.22044604925e-16 |  1   |\n",
      "|      0      |     Bengaluru     | 2.82744007096e-08  |  2   |\n",
      "|      0      |      Kolkata      | 4.16982666174e-08  |  3   |\n",
      "|      0      |      Chennai      | 4.82622495301e-08  |  4   |\n",
      "|      0      |   Greater Mumbai  | 5.76985244027e-08  |  5   |\n",
      "+-------------+-------------------+--------------------+------+\n",
      "[5 rows x 4 columns]\n",
      "\n"
     ]
    }
   ],
   "source": [
    "print simple_model.query(hyd, verbose=False)\n",
    "print simple_model_cosine.query(hyd,verbose=False)"
   ]
  },
  {
   "cell_type": "markdown",
   "metadata": {},
   "source": [
    "# Create some useful functions"
   ]
  },
  {
   "cell_type": "markdown",
   "metadata": {},
   "source": [
    "# Feature Scaling, Get query point row data"
   ]
  },
  {
   "cell_type": "code",
   "execution_count": 270,
   "metadata": {
    "collapsed": false
   },
   "outputs": [],
   "source": [
    "def feature_scaling(data, features, scaling_type):\n",
    "    scaled_data = {}\n",
    "    scaled_data['name_of_city'] = data['name_of_city']\n",
    "    \n",
    "    if scaling_type == 1:\n",
    "        # L2 Euclidean norm scaling - Inner dot product scalar\n",
    "        \n",
    "        for feature in features:\n",
    "          \n",
    "            norm = np.dot(data[feature], data[feature]) \n",
    "            scaled_data[feature] = data[feature]*1./norm\n",
    "                    \n",
    "    elif scaling_type == 2:\n",
    "        # Mean/Std deviation based scaling\n",
    "        for feature in features:\n",
    "            \n",
    "            scaled_data[feature] = ((data[feature]-data[feature].mean())*1.)/data[feature].std()\n",
    "    \n",
    "    \n",
    "    return gl.SFrame(scaled_data)\n",
    "\n",
    "def get_query(query_name, data):\n",
    "    return data[data['name_of_city'] == query_name]"
   ]
  },
  {
   "cell_type": "code",
   "execution_count": 272,
   "metadata": {
    "collapsed": false
   },
   "outputs": [],
   "source": [
    "# print 'Raw data', cities1[0:2]\n",
    "# norm_features = feature_scaling(cities1, simple_features, 1)\n",
    "# print 'Normalized data', norm_features[0:2]\n",
    "# std_features = feature_scaling(cities1, simple_features, 2)\n",
    "# print 'Standardized data', std_features[0:2]\n",
    "# chn_norm = get_query('Chennai', norm_features)\n",
    "# hyd_norm = get_query('Greater Hyderabad', norm_features)\n",
    "# bang_norm = get_query('Bengaluru', norm_features)\n"
   ]
  },
  {
   "cell_type": "code",
   "execution_count": 250,
   "metadata": {
    "collapsed": false
   },
   "outputs": [],
   "source": []
  },
  {
   "cell_type": "markdown",
   "metadata": {},
   "source": [
    "# Learn models"
   ]
  },
  {
   "cell_type": "code",
   "execution_count": 274,
   "metadata": {
    "collapsed": false
   },
   "outputs": [],
   "source": [
    "simple_model = gl.nearest_neighbors.create(cities1, features = simple_features, label = 'name_of_city', distance = 'euclidean', verbose=False)\n",
    "simple_model_cosine = gl.nearest_neighbors.create(cities1, features = simple_features, label = 'name_of_city', distance = 'cosine',verbose=False)\n",
    "\n",
    "norm_model = gl.nearest_neighbors.create(norm_features, features = simple_features, label = 'name_of_city', distance = 'euclidean', verbose=False)\n",
    "norm_model_cosine = gl.nearest_neighbors.create(norm_features, features = simple_features, label = 'name_of_city', distance = 'cosine', verbose=False)\n",
    "\n",
    "std_model = gl.nearest_neighbors.create(std_features, features = simple_features, label = 'name_of_city', distance = 'euclidean', verbose=False)\n",
    "std_model_cosine = gl.nearest_neighbors.create(std_features, features = simple_features, label = 'name_of_city', distance = 'cosine', verbose=False)"
   ]
  },
  {
   "cell_type": "markdown",
   "metadata": {},
   "source": [
    "## Chennai query"
   ]
  },
  {
   "cell_type": "code",
   "execution_count": 275,
   "metadata": {
    "collapsed": false
   },
   "outputs": [
    {
     "name": "stdout",
     "output_type": "stream",
     "text": [
      "~~~~~~~~~~~~~~~~~~~~~~~~~~~~~~~~~~~~~~~~~~~~~~~~~~~~~~~~\n",
      "Raw features Euclidean +-------------+-----------------+---------------+------+\n",
      "| query_label | reference_label |    distance   | rank |\n",
      "+-------------+-----------------+---------------+------+\n",
      "|      0      |     Chennai     |      0.0      |  1   |\n",
      "|      0      |     Kolkata     | 61219.0619021 |  2   |\n",
      "|      0      |    Ahmadabad    |  109837.03606 |  3   |\n",
      "|      0      |       Pune      |  223187.00377 |  4   |\n",
      "|      0      |     Lucknow     | 282705.008971 |  5   |\n",
      "+-------------+-----------------+---------------+------+\n",
      "[5 rows x 4 columns]\n",
      "\n",
      "Raw features Cosine +-------------+-------------------+-------------------+------+\n",
      "| query_label |  reference_label  |      distance     | rank |\n",
      "+-------------+-------------------+-------------------+------+\n",
      "|      0      |      Chennai      |        0.0        |  1   |\n",
      "|      0      |      Kolkata      | 2.59384069778e-10 |  2   |\n",
      "|      0      |     Ahmadabad     | 1.07577446951e-09 |  3   |\n",
      "|      0      | Greater Hyderabad | 4.82622495301e-08 |  4   |\n",
      "|      0      |        Pune       | 5.14292225473e-08 |  5   |\n",
      "+-------------+-------------------+-------------------+------+\n",
      "[5 rows x 4 columns]\n",
      "\n",
      "Normalized Euclidean features +-------------+-----------------+-------------------+------+\n",
      "| query_label | reference_label |      distance     | rank |\n",
      "+-------------+-----------------+-------------------+------+\n",
      "|      0      |     Chennai     |        0.0        |  1   |\n",
      "|      0      |    Madavaram    | 5.16079191087e-08 |  2   |\n",
      "|      0      |     Kurichi     | 5.97100687286e-08 |  3   |\n",
      "|      0      |     Barasat     | 6.25584995823e-08 |  4   |\n",
      "|      0      |     Belgaum     | 6.47315364747e-08 |  5   |\n",
      "+-------------+-----------------+-------------------+------+\n",
      "[5 rows x 4 columns]\n",
      "\n",
      "Normalized Cosine features +-------------+-----------------+-------------------+------+\n",
      "| query_label | reference_label |      distance     | rank |\n",
      "+-------------+-----------------+-------------------+------+\n",
      "|      0      |     Chennai     | 1.11022302463e-16 |  1   |\n",
      "|      0      |     Lucknow     | 6.07225726923e-07 |  2   |\n",
      "|      0      |    Coimbatore   | 1.29715061103e-06 |  3   |\n",
      "|      0      |      Raipur     | 1.37688766899e-06 |  4   |\n",
      "|      0      |     Madurai     | 1.41385242158e-06 |  5   |\n",
      "+-------------+-----------------+-------------------+------+\n",
      "[5 rows x 4 columns]\n",
      "\n",
      "Standardized Euclidean features +-------------+-------------------+---------------+------+\n",
      "| query_label |  reference_label  |    distance   | rank |\n",
      "+-------------+-------------------+---------------+------+\n",
      "|      0      |      Chennai      |      0.0      |  1   |\n",
      "|      0      |        Pune       | 1.47020422855 |  2   |\n",
      "|      0      |      Kolkata      |  1.6783269463 |  3   |\n",
      "|      0      |     Ahmadabad     | 1.71469359473 |  4   |\n",
      "|      0      | Greater Hyderabad | 2.12753024124 |  5   |\n",
      "+-------------+-------------------+---------------+------+\n",
      "[5 rows x 4 columns]\n",
      "\n",
      "Standardized Cosine features +-------------+-------------------+--------------------+------+\n",
      "| query_label |  reference_label  |      distance      | rank |\n",
      "+-------------+-------------------+--------------------+------+\n",
      "|      0      |      Chennai      | -2.22044604925e-16 |  1   |\n",
      "|      0      |        Pune       |  0.0166748578027   |  2   |\n",
      "|      0      |     Bengaluru     |  0.0345648562657   |  3   |\n",
      "|      0      | Greater Hyderabad |  0.0418339677914   |  4   |\n",
      "|      0      |       Delhi       |  0.0532957438087   |  5   |\n",
      "+-------------+-------------------+--------------------+------+\n",
      "[5 rows x 4 columns]\n",
      "\n"
     ]
    }
   ],
   "source": [
    "print '~~~~~~~~~~~~~~~~~~~~~~~~~~~~~~~~~~~~~~~~~~~~~~~~~~~~~~~~'\n",
    "print 'Raw features Euclidean', simple_model.query(get_query('Chennai', cities1), verbose=False)\n",
    "print 'Raw features Cosine', simple_model_cosine.query(get_query('Chennai', cities1), verbose=False)\n",
    "\n",
    "print 'Normalized Euclidean features', norm_model.query(get_query('Chennai', feature_scaling(cities1, simple_features, 1)),verbose=False)\n",
    "print 'Normalized Cosine features', norm_model_cosine.query(get_query('Chennai', feature_scaling(cities1, simple_features, 1)), verbose=False)\n",
    "\n",
    "print 'Standardized Euclidean features', std_model.query(get_query('Chennai', feature_scaling(cities1, simple_features, 2)), verbose=False)\n",
    "print 'Standardized Cosine features', std_model_cosine.query(get_query('Chennai', feature_scaling(cities1, simple_features, 2)), verbose=False)\n"
   ]
  },
  {
   "cell_type": "code",
   "execution_count": null,
   "metadata": {
    "collapsed": true
   },
   "outputs": [],
   "source": []
  }
 ],
 "metadata": {
  "kernelspec": {
   "display_name": "Python 2",
   "language": "python",
   "name": "python2"
  },
  "language_info": {
   "codemirror_mode": {
    "name": "ipython",
    "version": 2
   },
   "file_extension": ".py",
   "mimetype": "text/x-python",
   "name": "python",
   "nbconvert_exporter": "python",
   "pygments_lexer": "ipython2",
   "version": "2.7.11"
  }
 },
 "nbformat": 4,
 "nbformat_minor": 0
}
